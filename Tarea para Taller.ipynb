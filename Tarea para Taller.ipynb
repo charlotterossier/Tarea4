{
 "cells": [
  {
   "cell_type": "code",
   "execution_count": 65,
   "metadata": {},
   "outputs": [],
   "source": [
    "from robobrowser import RoboBrowser\n",
    "import folium\n",
    "import geocoder\n",
    "import pandas"
   ]
  },
  {
   "cell_type": "code",
   "execution_count": 66,
   "metadata": {},
   "outputs": [
    {
     "data": {
      "text/html": [
       "<div>\n",
       "<style scoped>\n",
       "    .dataframe tbody tr th:only-of-type {\n",
       "        vertical-align: middle;\n",
       "    }\n",
       "\n",
       "    .dataframe tbody tr th {\n",
       "        vertical-align: top;\n",
       "    }\n",
       "\n",
       "    .dataframe thead th {\n",
       "        text-align: right;\n",
       "    }\n",
       "</style>\n",
       "<table border=\"1\" class=\"dataframe\">\n",
       "  <thead>\n",
       "    <tr style=\"text-align: right;\">\n",
       "      <th></th>\n",
       "      <th>País</th>\n",
       "      <th>MM toneladas producidas</th>\n",
       "    </tr>\n",
       "  </thead>\n",
       "  <tbody>\n",
       "    <tr>\n",
       "      <th>0</th>\n",
       "      <td>China</td>\n",
       "      <td>17</td>\n",
       "    </tr>\n",
       "    <tr>\n",
       "      <th>1</th>\n",
       "      <td>Perú</td>\n",
       "      <td>10,7</td>\n",
       "    </tr>\n",
       "    <tr>\n",
       "      <th>2</th>\n",
       "      <td>Japón</td>\n",
       "      <td>5</td>\n",
       "    </tr>\n",
       "    <tr>\n",
       "      <th>3</th>\n",
       "      <td>EEUU</td>\n",
       "      <td>4,7</td>\n",
       "    </tr>\n",
       "    <tr>\n",
       "      <th>4</th>\n",
       "      <td>Chile</td>\n",
       "      <td>4,3</td>\n",
       "    </tr>\n",
       "    <tr>\n",
       "      <th>5</th>\n",
       "      <td>Indonesia</td>\n",
       "      <td>4,1</td>\n",
       "    </tr>\n",
       "    <tr>\n",
       "      <th>6</th>\n",
       "      <td>Rusia</td>\n",
       "      <td>4</td>\n",
       "    </tr>\n",
       "    <tr>\n",
       "      <th>7</th>\n",
       "      <td>India</td>\n",
       "      <td>3,6</td>\n",
       "    </tr>\n",
       "    <tr>\n",
       "      <th>8</th>\n",
       "      <td>Tailandia</td>\n",
       "      <td>2,9</td>\n",
       "    </tr>\n",
       "    <tr>\n",
       "      <th>9</th>\n",
       "      <td>Noruega</td>\n",
       "      <td>2,7</td>\n",
       "    </tr>\n",
       "    <tr>\n",
       "      <th>10</th>\n",
       "      <td>Islandia</td>\n",
       "      <td>2</td>\n",
       "    </tr>\n",
       "    <tr>\n",
       "      <th>11</th>\n",
       "      <td>Filipinas</td>\n",
       "      <td>1,9</td>\n",
       "    </tr>\n",
       "  </tbody>\n",
       "</table>\n",
       "</div>"
      ],
      "text/plain": [
       "         País MM toneladas producidas\n",
       "0       China                      17\n",
       "1        Perú                    10,7\n",
       "2       Japón                       5\n",
       "3        EEUU                     4,7\n",
       "4       Chile                     4,3\n",
       "5   Indonesia                     4,1\n",
       "6       Rusia                       4\n",
       "7       India                     3,6\n",
       "8   Tailandia                     2,9\n",
       "9     Noruega                     2,7\n",
       "10   Islandia                       2\n",
       "11  Filipinas                     1,9"
      ]
     },
     "execution_count": 66,
     "metadata": {},
     "output_type": "execute_result"
    }
   ],
   "source": [
    "import pandas as pd\n",
    "\n",
    "df = pd.read_csv('pesca.csv', sep=';', encoding='latin-1')\n",
    "df"
   ]
  },
  {
   "cell_type": "code",
   "execution_count": 67,
   "metadata": {},
   "outputs": [
    {
     "data": {
      "text/plain": [
       "{'index': [0, 1, 2, 3, 4, 5, 6, 7, 8, 9, 10, 11],\n",
       " 'columns': ['País', 'MM toneladas producidas'],\n",
       " 'data': [['China', '17'],\n",
       "  ['Perú', '10,7'],\n",
       "  ['Japón', '5'],\n",
       "  ['EEUU', '4,7'],\n",
       "  ['Chile', '4,3'],\n",
       "  ['Indonesia', '4,1'],\n",
       "  ['Rusia', '4'],\n",
       "  ['India', '3,6'],\n",
       "  ['Tailandia', '2,9'],\n",
       "  ['Noruega', '2,7'],\n",
       "  ['Islandia', '2'],\n",
       "  ['Filipinas', '1,9']]}"
      ]
     },
     "execution_count": 67,
     "metadata": {},
     "output_type": "execute_result"
    }
   ],
   "source": [
    "d=df.to_dict(orient='split')\n",
    "d"
   ]
  },
  {
   "cell_type": "code",
   "execution_count": 68,
   "metadata": {},
   "outputs": [
    {
     "data": {
      "text/plain": [
       "[['China', '17'],\n",
       " ['Perú', '10,7'],\n",
       " ['Japón', '5'],\n",
       " ['EEUU', '4,7'],\n",
       " ['Chile', '4,3'],\n",
       " ['Indonesia', '4,1'],\n",
       " ['Rusia', '4'],\n",
       " ['India', '3,6'],\n",
       " ['Tailandia', '2,9'],\n",
       " ['Noruega', '2,7'],\n",
       " ['Islandia', '2'],\n",
       " ['Filipinas', '1,9']]"
      ]
     },
     "execution_count": 68,
     "metadata": {},
     "output_type": "execute_result"
    }
   ],
   "source": [
    "data=d['data']\n",
    "data"
   ]
  },
  {
   "cell_type": "code",
   "execution_count": 69,
   "metadata": {},
   "outputs": [
    {
     "name": "stdout",
     "output_type": "stream",
     "text": [
      "China\n",
      "[35.000074, 104.999927]\n",
      "Perú\n",
      "[-6.8699697, -75.0458515]\n",
      "Japón\n",
      "[-5.2041005, -80.6543653]\n",
      "EEUU\n",
      "[-35.8578063, -71.5853138]\n",
      "Chile\n",
      "[-31.7613365, -71.3187697]\n",
      "Indonesia\n",
      "[-4.7993356, 114.5632032]\n",
      "Rusia\n",
      "[5.955505, -73.0189267]\n",
      "India\n",
      "[22.3511148, 78.6677428]\n",
      "Tailandia\n",
      "[-2.936096, -48.9523366]\n",
      "Noruega\n",
      "[5.1838481, -75.2214881]\n",
      "Islandia\n",
      "[25.4460768, -80.1964353]\n",
      "Filipinas\n",
      "[6.6680219, -71.2065934]\n"
     ]
    }
   ],
   "source": [
    "import geocoder\n",
    "l=[]\n",
    "for pais, mm in data:\n",
    "    lugar=pais\n",
    "    print(lugar)\n",
    "    ubicacion=geocoder.komoot(lugar).latlng\n",
    "    print(ubicacion)\n",
    "    try:\n",
    "        dato=[pais, mm, ubicacion]\n",
    "        if ubicacion !=None:\n",
    "            l.append(dato)\n",
    "    except:\n",
    "        pass\n",
    "    "
   ]
  },
  {
   "cell_type": "code",
   "execution_count": 70,
   "metadata": {},
   "outputs": [
    {
     "data": {
      "text/html": [
       "<div style=\"width:100%;\"><div style=\"position:relative;width:100%;height:0;padding-bottom:60%;\"><iframe src=\"data:text/html;charset=utf-8;base64,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\" style=\"position:absolute;width:100%;height:100%;left:0;top:0;border:none !important;\" allowfullscreen webkitallowfullscreen mozallowfullscreen></iframe></div></div>"
      ],
      "text/plain": [
       "<folium.folium.Map at 0x110ce68d0>"
      ]
     },
     "execution_count": 70,
     "metadata": {},
     "output_type": "execute_result"
    }
   ],
   "source": [
    "m=folium.Map(location=[35.000074, 104.999927], tiles='OpenStreetMap', zoom_start=1)\n",
    "for pais, mm, ubicacion in l:\n",
    "    folium.Circle(ubicacion, radius=mm*2).add_to(m)\n",
    "m"
   ]
  },
  {
   "cell_type": "code",
   "execution_count": 71,
   "metadata": {},
   "outputs": [],
   "source": [
    "m=folium.Map(\n",
    "    location=[35.000074, 104.999927],\n",
    "    tiles=\"Stamen Toner\",\n",
    "    zoom_start=9\n",
    ")\n",
    "for pais, mm, ubicacion in l:\n",
    "    folium.Marker(ubicacion, popup=pais).add_to(m) "
   ]
  },
  {
   "cell_type": "code",
   "execution_count": 72,
   "metadata": {
    "scrolled": true
   },
   "outputs": [
    {
     "data": {
      "text/html": [
       "<div style=\"width:100%;\"><div style=\"position:relative;width:100%;height:0;padding-bottom:60%;\"><iframe src=\"data:text/html;charset=utf-8;base64,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\" style=\"position:absolute;width:100%;height:100%;left:0;top:0;border:none !important;\" allowfullscreen webkitallowfullscreen mozallowfullscreen></iframe></div></div>"
      ],
      "text/plain": [
       "<folium.folium.Map at 0x110ce6f98>"
      ]
     },
     "execution_count": 72,
     "metadata": {},
     "output_type": "execute_result"
    }
   ],
   "source": [
    "m"
   ]
  },
  {
   "cell_type": "code",
   "execution_count": 73,
   "metadata": {},
   "outputs": [
    {
     "data": {
      "text/plain": [
       "[['China', '17', [35.000074, 104.999927]],\n",
       " ['Perú', '10,7', [-6.8699697, -75.0458515]],\n",
       " ['Japón', '5', [-5.2041005, -80.6543653]],\n",
       " ['EEUU', '4,7', [-35.8578063, -71.5853138]],\n",
       " ['Chile', '4,3', [-31.7613365, -71.3187697]],\n",
       " ['Indonesia', '4,1', [-4.7993356, 114.5632032]],\n",
       " ['Rusia', '4', [5.955505, -73.0189267]],\n",
       " ['India', '3,6', [22.3511148, 78.6677428]],\n",
       " ['Tailandia', '2,9', [-2.936096, -48.9523366]],\n",
       " ['Noruega', '2,7', [5.1838481, -75.2214881]],\n",
       " ['Islandia', '2', [25.4460768, -80.1964353]],\n",
       " ['Filipinas', '1,9', [6.6680219, -71.2065934]]]"
      ]
     },
     "execution_count": 73,
     "metadata": {},
     "output_type": "execute_result"
    }
   ],
   "source": [
    "l"
   ]
  },
  {
   "cell_type": "code",
   "execution_count": 75,
   "metadata": {},
   "outputs": [
    {
     "data": {
      "text/html": [
       "<div style=\"width:100%;\"><div style=\"position:relative;width:100%;height:0;padding-bottom:60%;\"><iframe src=\"data:text/html;charset=utf-8;base64,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\" style=\"position:absolute;width:100%;height:100%;left:0;top:0;border:none !important;\" allowfullscreen webkitallowfullscreen mozallowfullscreen></iframe></div></div>"
      ],
      "text/plain": [
       "<folium.folium.Map at 0x110d7b470>"
      ]
     },
     "execution_count": 75,
     "metadata": {},
     "output_type": "execute_result"
    }
   ],
   "source": [
    "import folium\n",
    "map_osm=folium.Map(location=[35.000074, 104.999927])\n",
    "\n",
    "for pais, mm, ubicacion in l:\n",
    "    folium.Marker(location=ubicacion).add_to(map_osm)\n",
    "    \n",
    "map_osm"
   ]
  },
  {
   "cell_type": "code",
   "execution_count": 76,
   "metadata": {},
   "outputs": [
    {
     "data": {
      "text/html": [
       "<div style=\"width:100%;\"><div style=\"position:relative;width:100%;height:0;padding-bottom:60%;\"><iframe src=\"data:text/html;charset=utf-8;base64,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\" style=\"position:absolute;width:100%;height:100%;left:0;top:0;border:none !important;\" allowfullscreen webkitallowfullscreen mozallowfullscreen></iframe></div></div>"
      ],
      "text/plain": [
       "<folium.folium.Map at 0x110db30f0>"
      ]
     },
     "execution_count": 76,
     "metadata": {},
     "output_type": "execute_result"
    }
   ],
   "source": [
    "import folium\n",
    "\n",
    "map_osm=folium.Map(location=[35.000074, 104.999927])\n",
    "icon_url='https://png.icons8.com/wired/1600/fish-food.png'\n",
    "icon=folium.CustomIcon(icon_url, icon_size=(30,30))\n",
    "folium.Marker(location=[35.000074, 104.999927], icon=icon).add_to(map_osm)\n",
    "map_osm"
   ]
  },
  {
   "cell_type": "code",
   "execution_count": 79,
   "metadata": {},
   "outputs": [
    {
     "data": {
      "text/html": [
       "<div style=\"width:100%;\"><div style=\"position:relative;width:100%;height:0;padding-bottom:60%;\"><iframe src=\"data:text/html;charset=utf-8;base64,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\" style=\"position:absolute;width:100%;height:100%;left:0;top:0;border:none !important;\" allowfullscreen webkitallowfullscreen mozallowfullscreen></iframe></div></div>"
      ],
      "text/plain": [
       "<folium.folium.Map at 0x110e30c88>"
      ]
     },
     "execution_count": 79,
     "metadata": {},
     "output_type": "execute_result"
    }
   ],
   "source": [
    "import folium\n",
    "\n",
    "m=folium.Map(\n",
    "    location=[35.000074, 104.999927],\n",
    "    tiles=\"Stamen Toner\",\n",
    "    zoom_start=1\n",
    ")\n",
    "\n",
    "for pais, mm, ubicacion in l:\n",
    "    icon_url='https://png.icons8.com/dusk/1600/fish-food.png'\n",
    "    icon=folium.CustomIcon(icon_url, icon_size=(30,30))\n",
    "    folium.Marker(location=ubicacion, icon=icon).add_to(m)\n",
    "m"
   ]
  },
  {
   "cell_type": "code",
   "execution_count": null,
   "metadata": {},
   "outputs": [],
   "source": []
  }
 ],
 "metadata": {
  "kernelspec": {
   "display_name": "Python 3",
   "language": "python",
   "name": "python3"
  },
  "language_info": {
   "codemirror_mode": {
    "name": "ipython",
    "version": 3
   },
   "file_extension": ".py",
   "mimetype": "text/x-python",
   "name": "python",
   "nbconvert_exporter": "python",
   "pygments_lexer": "ipython3",
   "version": "3.6.5"
  }
 },
 "nbformat": 4,
 "nbformat_minor": 2
}
